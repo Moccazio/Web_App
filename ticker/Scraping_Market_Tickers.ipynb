{
 "cells": [
  {
   "cell_type": "code",
   "execution_count": 1,
   "metadata": {},
   "outputs": [],
   "source": [
    "#Import the dependencies\n",
    "import requests\n",
    "import pandas as pd\n",
    "from bs4 import BeautifulSoup"
   ]
  },
  {
   "cell_type": "markdown",
   "metadata": {},
   "source": [
    "# New York Stock Exchange\n",
    "New York Stock Exchange (NYSE) is the leading stock exchange in the world"
   ]
  },
  {
   "cell_type": "code",
   "execution_count": 2,
   "metadata": {},
   "outputs": [],
   "source": [
    "#Create two empty lists for the company name and company ticker symbol\n",
    "company_name =[]\n",
    "company_ticker = []"
   ]
  },
  {
   "cell_type": "code",
   "execution_count": 3,
   "metadata": {},
   "outputs": [],
   "source": [
    "#Create a function to scrape the data\n",
    "def scrape_nyse_ticker(Letter):\n",
    "    Letter =  Letter.upper()\n",
    "    URL =  'https://www.advfn.com/nyse/newyorkstockexchange.asp?companies='+Letter\n",
    "    page = requests.get(URL)\n",
    "    soup = BeautifulSoup(page.text, \"html.parser\")\n",
    "    odd_rows = soup.find_all('tr', attrs= {'class':'ts0'})\n",
    "    even_rows = soup.find_all('tr', attrs= {'class':'ts1'})\n",
    "    for i in odd_rows:\n",
    "        row = i.find_all('td')\n",
    "        company_name.append(row[0].text.strip())\n",
    "        company_ticker.append(row[1].text.strip())\n",
    "        for i in even_rows:\n",
    "            row = i.find_all('td')\n",
    "            company_name.append(row[0].text.strip())\n",
    "            company_ticker.append(row[1].text.strip())\n",
    "    return (company_name, company_ticker)"
   ]
  },
  {
   "cell_type": "code",
   "execution_count": 4,
   "metadata": {},
   "outputs": [
    {
     "data": {
      "text/plain": [
       "'ABCDEFGHIJKLMNOPQRSTUVWXYZ'"
      ]
     },
     "execution_count": 4,
     "metadata": {},
     "output_type": "execute_result"
    }
   ],
   "source": [
    "#Get and show a list of every letter in the alphabet\n",
    "import string\n",
    "string.ascii_uppercase"
   ]
  },
  {
   "cell_type": "code",
   "execution_count": 5,
   "metadata": {},
   "outputs": [],
   "source": [
    "#Loop through every letter in the alphabet to get all of the tickers from the website\n",
    "for char in string.ascii_uppercase:\n",
    "    (temp_name,temp_ticker) = scrape_nyse_ticker(char)"
   ]
  },
  {
   "cell_type": "code",
   "execution_count": 11,
   "metadata": {},
   "outputs": [],
   "source": [
    "#Create a new dataFrame that contains the company name and company ticker\n",
    "data = pd.DataFrame(columns = ['name',  'ticker']) \n",
    "data['name'] = temp_name\n",
    "data['ticker'] = temp_ticker"
   ]
  },
  {
   "cell_type": "code",
   "execution_count": 13,
   "metadata": {},
   "outputs": [],
   "source": [
    "#Data Cleaning\n",
    "data = data[data['name'] != '']"
   ]
  },
  {
   "cell_type": "code",
   "execution_count": 14,
   "metadata": {},
   "outputs": [
    {
     "data": {
      "text/html": [
       "<div>\n",
       "<style scoped>\n",
       "    .dataframe tbody tr th:only-of-type {\n",
       "        vertical-align: middle;\n",
       "    }\n",
       "\n",
       "    .dataframe tbody tr th {\n",
       "        vertical-align: top;\n",
       "    }\n",
       "\n",
       "    .dataframe thead th {\n",
       "        text-align: right;\n",
       "    }\n",
       "</style>\n",
       "<table border=\"1\" class=\"dataframe\">\n",
       "  <thead>\n",
       "    <tr style=\"text-align: right;\">\n",
       "      <th></th>\n",
       "      <th>name</th>\n",
       "      <th>ticker</th>\n",
       "    </tr>\n",
       "  </thead>\n",
       "  <tbody>\n",
       "    <tr>\n",
       "      <th>0</th>\n",
       "      <td>A H Belo Corporation</td>\n",
       "      <td>AHC</td>\n",
       "    </tr>\n",
       "    <tr>\n",
       "      <th>1</th>\n",
       "      <td>A10 Networks Inc</td>\n",
       "      <td>ATEN</td>\n",
       "    </tr>\n",
       "    <tr>\n",
       "      <th>2</th>\n",
       "      <td>ABB Ltd</td>\n",
       "      <td>ABB</td>\n",
       "    </tr>\n",
       "    <tr>\n",
       "      <th>3</th>\n",
       "      <td>ACRES Commercial Realty Corporation</td>\n",
       "      <td>ACR</td>\n",
       "    </tr>\n",
       "    <tr>\n",
       "      <th>4</th>\n",
       "      <td>ADT Inc</td>\n",
       "      <td>ADT</td>\n",
       "    </tr>\n",
       "    <tr>\n",
       "      <th>...</th>\n",
       "      <td>...</td>\n",
       "      <td>...</td>\n",
       "    </tr>\n",
       "    <tr>\n",
       "      <th>139510</th>\n",
       "      <td>Zayo Group Holdings Inc</td>\n",
       "      <td>ZAYO</td>\n",
       "    </tr>\n",
       "    <tr>\n",
       "      <th>139511</th>\n",
       "      <td>Zhihu Inc</td>\n",
       "      <td>ZH</td>\n",
       "    </tr>\n",
       "    <tr>\n",
       "      <th>139512</th>\n",
       "      <td>Zions Bancorporation NA</td>\n",
       "      <td>ZBK</td>\n",
       "    </tr>\n",
       "    <tr>\n",
       "      <th>139513</th>\n",
       "      <td>Zoetis Inc</td>\n",
       "      <td>ZTS</td>\n",
       "    </tr>\n",
       "    <tr>\n",
       "      <th>139514</th>\n",
       "      <td>Zymeworks Inc</td>\n",
       "      <td>ZYME</td>\n",
       "    </tr>\n",
       "  </tbody>\n",
       "</table>\n",
       "<p>139515 rows × 2 columns</p>\n",
       "</div>"
      ],
      "text/plain": [
       "                                       name ticker\n",
       "0                      A H Belo Corporation    AHC\n",
       "1                          A10 Networks Inc   ATEN\n",
       "2                                   ABB Ltd    ABB\n",
       "3       ACRES Commercial Realty Corporation    ACR\n",
       "4                                   ADT Inc    ADT\n",
       "...                                     ...    ...\n",
       "139510              Zayo Group Holdings Inc   ZAYO\n",
       "139511                            Zhihu Inc     ZH\n",
       "139512              Zions Bancorporation NA    ZBK\n",
       "139513                           Zoetis Inc    ZTS\n",
       "139514                        Zymeworks Inc   ZYME\n",
       "\n",
       "[139515 rows x 2 columns]"
      ]
     },
     "execution_count": 14,
     "metadata": {},
     "output_type": "execute_result"
    }
   ],
   "source": [
    "data"
   ]
  },
  {
   "cell_type": "code",
   "execution_count": 16,
   "metadata": {},
   "outputs": [],
   "source": [
    "data.to_excel(\"nyse/nyse_ticker.xlsx\")\n",
    "data.to_csv(\"nyse/nyse_ticker.csv\")"
   ]
  },
  {
   "cell_type": "markdown",
   "metadata": {},
   "source": [
    "# Frankfurt Stock Exchange\n",
    "The Frankfurt Stock Exchange is the world's 12th largest stock exchange by market capitalization."
   ]
  },
  {
   "cell_type": "code",
   "execution_count": 40,
   "metadata": {},
   "outputs": [],
   "source": [
    "prime_std = pd.read_html(\"https://topforeignstocks.com/stock-lists/the-list-of-listed-companies-in-germany/\")"
   ]
  },
  {
   "cell_type": "code",
   "execution_count": 42,
   "metadata": {},
   "outputs": [
    {
     "data": {
      "text/html": [
       "<div>\n",
       "<style scoped>\n",
       "    .dataframe tbody tr th:only-of-type {\n",
       "        vertical-align: middle;\n",
       "    }\n",
       "\n",
       "    .dataframe tbody tr th {\n",
       "        vertical-align: top;\n",
       "    }\n",
       "\n",
       "    .dataframe thead th {\n",
       "        text-align: right;\n",
       "    }\n",
       "</style>\n",
       "<table border=\"1\" class=\"dataframe\">\n",
       "  <thead>\n",
       "    <tr style=\"text-align: right;\">\n",
       "      <th></th>\n",
       "      <th>S.No.</th>\n",
       "      <th>Company</th>\n",
       "      <th>Ticker</th>\n",
       "      <th>Subsector</th>\n",
       "      <th>Country</th>\n",
       "    </tr>\n",
       "  </thead>\n",
       "  <tbody>\n",
       "    <tr>\n",
       "      <th>0</th>\n",
       "      <td>1</td>\n",
       "      <td>1+1 DRILLISCH AG O.N.</td>\n",
       "      <td>DRI</td>\n",
       "      <td>Wireless Communication</td>\n",
       "      <td>Germany</td>\n",
       "    </tr>\n",
       "    <tr>\n",
       "      <th>1</th>\n",
       "      <td>2</td>\n",
       "      <td>11 88 0 SOLUTIONS AG</td>\n",
       "      <td>TGT</td>\n",
       "      <td>Telecommunication Services</td>\n",
       "      <td>Germany</td>\n",
       "    </tr>\n",
       "    <tr>\n",
       "      <th>2</th>\n",
       "      <td>3</td>\n",
       "      <td>3U HOLDING AG</td>\n",
       "      <td>UUU</td>\n",
       "      <td>Industrial Products &amp; Services</td>\n",
       "      <td>Germany</td>\n",
       "    </tr>\n",
       "    <tr>\n",
       "      <th>3</th>\n",
       "      <td>4</td>\n",
       "      <td>4BASEBIO AG NA O.N.</td>\n",
       "      <td>4BSB</td>\n",
       "      <td>Biotechnology</td>\n",
       "      <td>Germany</td>\n",
       "    </tr>\n",
       "    <tr>\n",
       "      <th>4</th>\n",
       "      <td>5</td>\n",
       "      <td>4SC AG</td>\n",
       "      <td>VSC</td>\n",
       "      <td>Biotechnology</td>\n",
       "      <td>Germany</td>\n",
       "    </tr>\n",
       "    <tr>\n",
       "      <th>...</th>\n",
       "      <td>...</td>\n",
       "      <td>...</td>\n",
       "      <td>...</td>\n",
       "      <td>...</td>\n",
       "      <td>...</td>\n",
       "    </tr>\n",
       "    <tr>\n",
       "      <th>307</th>\n",
       "      <td>308</td>\n",
       "      <td>WUESTENROT+WUERTTEMBERGISCHE AG O.N.</td>\n",
       "      <td>WUW</td>\n",
       "      <td>Mortgage Banks</td>\n",
       "      <td>Germany</td>\n",
       "    </tr>\n",
       "    <tr>\n",
       "      <th>308</th>\n",
       "      <td>309</td>\n",
       "      <td>YOC AG O.N.</td>\n",
       "      <td>YOC</td>\n",
       "      <td>Telecommunication Services</td>\n",
       "      <td>Germany</td>\n",
       "    </tr>\n",
       "    <tr>\n",
       "      <th>309</th>\n",
       "      <td>310</td>\n",
       "      <td>ZALANDO SE</td>\n",
       "      <td>ZAL</td>\n",
       "      <td>Retail,Internet</td>\n",
       "      <td>Germany</td>\n",
       "    </tr>\n",
       "    <tr>\n",
       "      <th>310</th>\n",
       "      <td>311</td>\n",
       "      <td>ZEAL NETWORK SE NA O.N.</td>\n",
       "      <td>TIMA</td>\n",
       "      <td>Retail, Internet</td>\n",
       "      <td>Germany</td>\n",
       "    </tr>\n",
       "    <tr>\n",
       "      <th>311</th>\n",
       "      <td>312</td>\n",
       "      <td>ZOOPLUS AG</td>\n",
       "      <td>ZO1</td>\n",
       "      <td>Retail, Internet</td>\n",
       "      <td>Germany</td>\n",
       "    </tr>\n",
       "  </tbody>\n",
       "</table>\n",
       "<p>312 rows × 5 columns</p>\n",
       "</div>"
      ],
      "text/plain": [
       "     S.No.                               Company Ticker  \\\n",
       "0        1                 1+1 DRILLISCH AG O.N.    DRI   \n",
       "1        2                  11 88 0 SOLUTIONS AG    TGT   \n",
       "2        3                         3U HOLDING AG    UUU   \n",
       "3        4                   4BASEBIO AG NA O.N.   4BSB   \n",
       "4        5                                4SC AG    VSC   \n",
       "..     ...                                   ...    ...   \n",
       "307    308  WUESTENROT+WUERTTEMBERGISCHE AG O.N.    WUW   \n",
       "308    309                           YOC AG O.N.    YOC   \n",
       "309    310                            ZALANDO SE    ZAL   \n",
       "310    311               ZEAL NETWORK SE NA O.N.   TIMA   \n",
       "311    312                            ZOOPLUS AG    ZO1   \n",
       "\n",
       "                          Subsector  Country  \n",
       "0            Wireless Communication  Germany  \n",
       "1        Telecommunication Services  Germany  \n",
       "2    Industrial Products & Services  Germany  \n",
       "3                     Biotechnology  Germany  \n",
       "4                     Biotechnology  Germany  \n",
       "..                              ...      ...  \n",
       "307                  Mortgage Banks  Germany  \n",
       "308      Telecommunication Services  Germany  \n",
       "309                 Retail,Internet  Germany  \n",
       "310                Retail, Internet  Germany  \n",
       "311                Retail, Internet  Germany  \n",
       "\n",
       "[312 rows x 5 columns]"
      ]
     },
     "execution_count": 42,
     "metadata": {},
     "output_type": "execute_result"
    }
   ],
   "source": [
    "prime_std[0]"
   ]
  },
  {
   "cell_type": "code",
   "execution_count": null,
   "metadata": {},
   "outputs": [],
   "source": [
    "df.add()"
   ]
  },
  {
   "cell_type": "code",
   "execution_count": 50,
   "metadata": {},
   "outputs": [],
   "source": [
    "temp_ticker=prime_std[0].Ticker\n",
    "#Add the \".DE\" to Tickers\n",
    "temp_ticker=temp_ticker.add(\".DE\")"
   ]
  },
  {
   "cell_type": "code",
   "execution_count": 51,
   "metadata": {},
   "outputs": [],
   "source": [
    "temp_name=dax[0].Company"
   ]
  },
  {
   "cell_type": "code",
   "execution_count": 52,
   "metadata": {},
   "outputs": [],
   "source": [
    "#Create a new dataFrame that contains the company name and company ticker\n",
    "data = pd.DataFrame(columns = ['company_name',  'company_ticker']) \n",
    "data['company_name'] = temp_name\n",
    "data['company_ticker'] = temp_ticker"
   ]
  },
  {
   "cell_type": "code",
   "execution_count": 54,
   "metadata": {},
   "outputs": [
    {
     "data": {
      "text/html": [
       "<div>\n",
       "<style scoped>\n",
       "    .dataframe tbody tr th:only-of-type {\n",
       "        vertical-align: middle;\n",
       "    }\n",
       "\n",
       "    .dataframe tbody tr th {\n",
       "        vertical-align: top;\n",
       "    }\n",
       "\n",
       "    .dataframe thead th {\n",
       "        text-align: right;\n",
       "    }\n",
       "</style>\n",
       "<table border=\"1\" class=\"dataframe\">\n",
       "  <thead>\n",
       "    <tr style=\"text-align: right;\">\n",
       "      <th></th>\n",
       "      <th>company_name</th>\n",
       "      <th>company_ticker</th>\n",
       "    </tr>\n",
       "  </thead>\n",
       "  <tbody>\n",
       "    <tr>\n",
       "      <th>0</th>\n",
       "      <td>1+1 DRILLISCH AG O.N.</td>\n",
       "      <td>DRI.DE</td>\n",
       "    </tr>\n",
       "    <tr>\n",
       "      <th>1</th>\n",
       "      <td>11 88 0 SOLUTIONS AG</td>\n",
       "      <td>TGT.DE</td>\n",
       "    </tr>\n",
       "    <tr>\n",
       "      <th>2</th>\n",
       "      <td>3U HOLDING AG</td>\n",
       "      <td>UUU.DE</td>\n",
       "    </tr>\n",
       "    <tr>\n",
       "      <th>3</th>\n",
       "      <td>4BASEBIO AG NA O.N.</td>\n",
       "      <td>4BSB.DE</td>\n",
       "    </tr>\n",
       "    <tr>\n",
       "      <th>4</th>\n",
       "      <td>4SC AG</td>\n",
       "      <td>VSC.DE</td>\n",
       "    </tr>\n",
       "    <tr>\n",
       "      <th>...</th>\n",
       "      <td>...</td>\n",
       "      <td>...</td>\n",
       "    </tr>\n",
       "    <tr>\n",
       "      <th>307</th>\n",
       "      <td>WUESTENROT+WUERTTEMBERGISCHE AG O.N.</td>\n",
       "      <td>WUW.DE</td>\n",
       "    </tr>\n",
       "    <tr>\n",
       "      <th>308</th>\n",
       "      <td>YOC AG O.N.</td>\n",
       "      <td>YOC.DE</td>\n",
       "    </tr>\n",
       "    <tr>\n",
       "      <th>309</th>\n",
       "      <td>ZALANDO SE</td>\n",
       "      <td>ZAL.DE</td>\n",
       "    </tr>\n",
       "    <tr>\n",
       "      <th>310</th>\n",
       "      <td>ZEAL NETWORK SE NA O.N.</td>\n",
       "      <td>TIMA.DE</td>\n",
       "    </tr>\n",
       "    <tr>\n",
       "      <th>311</th>\n",
       "      <td>ZOOPLUS AG</td>\n",
       "      <td>ZO1.DE</td>\n",
       "    </tr>\n",
       "  </tbody>\n",
       "</table>\n",
       "<p>312 rows × 2 columns</p>\n",
       "</div>"
      ],
      "text/plain": [
       "                             company_name company_ticker\n",
       "0                   1+1 DRILLISCH AG O.N.         DRI.DE\n",
       "1                    11 88 0 SOLUTIONS AG         TGT.DE\n",
       "2                           3U HOLDING AG         UUU.DE\n",
       "3                     4BASEBIO AG NA O.N.        4BSB.DE\n",
       "4                                  4SC AG         VSC.DE\n",
       "..                                    ...            ...\n",
       "307  WUESTENROT+WUERTTEMBERGISCHE AG O.N.         WUW.DE\n",
       "308                           YOC AG O.N.         YOC.DE\n",
       "309                            ZALANDO SE         ZAL.DE\n",
       "310               ZEAL NETWORK SE NA O.N.        TIMA.DE\n",
       "311                            ZOOPLUS AG         ZO1.DE\n",
       "\n",
       "[312 rows x 2 columns]"
      ]
     },
     "execution_count": 54,
     "metadata": {},
     "output_type": "execute_result"
    }
   ],
   "source": [
    "data"
   ]
  },
  {
   "cell_type": "code",
   "execution_count": 55,
   "metadata": {},
   "outputs": [],
   "source": [
    "data.to_excel(\"data/prime/prime_ticker.xlsx\")"
   ]
  }
 ],
 "metadata": {
  "kernelspec": {
   "display_name": "Python 3",
   "language": "python",
   "name": "python3"
  },
  "language_info": {
   "codemirror_mode": {
    "name": "ipython",
    "version": 3
   },
   "file_extension": ".py",
   "mimetype": "text/x-python",
   "name": "python",
   "nbconvert_exporter": "python",
   "pygments_lexer": "ipython3",
   "version": "3.8.5"
  }
 },
 "nbformat": 4,
 "nbformat_minor": 4
}
